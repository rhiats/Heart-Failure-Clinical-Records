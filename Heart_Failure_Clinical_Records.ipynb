{
  "nbformat": 4,
  "nbformat_minor": 0,
  "metadata": {
    "colab": {
      "provenance": [],
      "authorship_tag": "ABX9TyOrMXO5eqIeUsYKjtCv0q/N",
      "include_colab_link": true
    },
    "kernelspec": {
      "name": "python3",
      "display_name": "Python 3"
    },
    "language_info": {
      "name": "python"
    }
  },
  "cells": [
    {
      "cell_type": "markdown",
      "metadata": {
        "id": "view-in-github",
        "colab_type": "text"
      },
      "source": [
        "<a href=\"https://colab.research.google.com/github/rhiats/Heart-Failure-Clinical-Records/blob/main/Heart_Failure_Clinical_Records.ipynb\" target=\"_parent\"><img src=\"https://colab.research.google.com/assets/colab-badge.svg\" alt=\"Open In Colab\"/></a>"
      ]
    },
    {
      "cell_type": "markdown",
      "source": [
        "**Heart Failure Clinical Records**"
      ],
      "metadata": {
        "id": "H8wxM0dGr4Oo"
      }
    },
    {
      "cell_type": "markdown",
      "source": [
        "**Mann–Whitney U test**"
      ],
      "metadata": {
        "id": "3VvdD6jYsEpI"
      }
    },
    {
      "cell_type": "code",
      "source": [],
      "metadata": {
        "id": "FDS_TZVWr-40"
      },
      "execution_count": null,
      "outputs": []
    },
    {
      "cell_type": "markdown",
      "source": [
        "**Pearson correlation coefficient**"
      ],
      "metadata": {
        "id": "xEtODBfAsPRa"
      }
    },
    {
      "cell_type": "markdown",
      "source": [
        "**Random Forest Classifier**"
      ],
      "metadata": {
        "id": "wOP0vOGFsAhw"
      }
    },
    {
      "cell_type": "code",
      "source": [],
      "metadata": {
        "id": "ji7yjzhTsDWe"
      },
      "execution_count": null,
      "outputs": []
    }
  ]
}