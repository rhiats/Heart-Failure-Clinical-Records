{
  "nbformat": 4,
  "nbformat_minor": 0,
  "metadata": {
    "colab": {
      "provenance": [],
      "authorship_tag": "ABX9TyPphJslrDB2O+1rRL81UWm5",
      "include_colab_link": true
    },
    "kernelspec": {
      "name": "python3",
      "display_name": "Python 3"
    },
    "language_info": {
      "name": "python"
    }
  },
  "cells": [
    {
      "cell_type": "markdown",
      "metadata": {
        "id": "view-in-github",
        "colab_type": "text"
      },
      "source": [
        "<a href=\"https://colab.research.google.com/github/rhiats/Heart-Failure-Clinical-Records/blob/main/Heart_Failure_Clinical_Records.ipynb\" target=\"_parent\"><img src=\"https://colab.research.google.com/assets/colab-badge.svg\" alt=\"Open In Colab\"/></a>"
      ]
    },
    {
      "cell_type": "markdown",
      "source": [
        "**Heart Failure Clinical Records**"
      ],
      "metadata": {
        "id": "H8wxM0dGr4Oo"
      }
    },
    {
      "cell_type": "markdown",
      "source": [
        "**Continuous Features EDA**"
      ],
      "metadata": {
        "id": "Bn_w1zOxTmln"
      }
    },
    {
      "cell_type": "markdown",
      "source": [
        "**Categorical Features EDA**"
      ],
      "metadata": {
        "id": "gCPNpUDhTqM7"
      }
    },
    {
      "cell_type": "markdown",
      "source": [
        "**Mann–Whitney U test**"
      ],
      "metadata": {
        "id": "3VvdD6jYsEpI"
      }
    },
    {
      "cell_type": "code",
      "source": [],
      "metadata": {
        "id": "FDS_TZVWr-40"
      },
      "execution_count": null,
      "outputs": []
    },
    {
      "cell_type": "markdown",
      "source": [
        "**Pearson correlation coefficient**"
      ],
      "metadata": {
        "id": "xEtODBfAsPRa"
      }
    },
    {
      "cell_type": "markdown",
      "source": [
        "**Random Forest Classifier**"
      ],
      "metadata": {
        "id": "wOP0vOGFsAhw"
      }
    },
    {
      "cell_type": "code",
      "source": [],
      "metadata": {
        "id": "ji7yjzhTsDWe"
      },
      "execution_count": null,
      "outputs": []
    },
    {
      "cell_type": "markdown",
      "source": [
        "**Feature Ranking**\n",
        "\n",
        "\n",
        "1. RReliefF\n",
        "2. Max-Min Parents and Children\n",
        "3. Random Forest\n",
        "4. One Rule\n",
        "5. Recursive Partitioning and Regression Trees\n",
        "6. Support Vector Machines with linear kernel\n",
        "7. eXtreme Gradient Boosting\n",
        "\n",
        "11 features (everything but Time)\n",
        "\n",
        "Borda list: lower the score,the more important the feature\n",
        "\n"
      ],
      "metadata": {
        "id": "F_XX7buoqZyu"
      }
    },
    {
      "cell_type": "code",
      "source": [],
      "metadata": {
        "id": "FBF3_DbzqcdW"
      },
      "execution_count": null,
      "outputs": []
    }
  ]
}