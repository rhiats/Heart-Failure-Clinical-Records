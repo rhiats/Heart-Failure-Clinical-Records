{
  "nbformat": 4,
  "nbformat_minor": 0,
  "metadata": {
    "colab": {
      "provenance": [],
      "authorship_tag": "ABX9TyPhD99kMc6SHlU0bO6ANZ/m",
      "include_colab_link": true
    },
    "kernelspec": {
      "name": "python3",
      "display_name": "Python 3"
    },
    "language_info": {
      "name": "python"
    }
  },
  "cells": [
    {
      "cell_type": "markdown",
      "metadata": {
        "id": "view-in-github",
        "colab_type": "text"
      },
      "source": [
        "<a href=\"https://colab.research.google.com/github/rhiats/Heart-Failure-Clinical-Records/blob/main/Heart_Failure_Clinical_Records.ipynb\" target=\"_parent\"><img src=\"https://colab.research.google.com/assets/colab-badge.svg\" alt=\"Open In Colab\"/></a>"
      ]
    },
    {
      "cell_type": "markdown",
      "source": [
        "**Heart Failure Clinical Records**\n",
        "\n",
        "Replicate paper:\n",
        "\n",
        "Chicco, D., & Jurman, G. (2020). Machine learning can predict survival of patients with heart failure from serum creatinine and ejection fraction alone. BMC Medical Informatics and Decision Making, 20, 16. https://doi.org/10.1186/s12911-020-1023-5\n",
        "\n",
        "Dataset:\n",
        "Heart Failure Clinical Records [Dataset]. (2020). UCI Machine Learning Repository. https://doi.org/10.24432/C5Z89R."
      ],
      "metadata": {
        "id": "H8wxM0dGr4Oo"
      }
    },
    {
      "cell_type": "code",
      "source": [
        "!pip install ucimlrepo"
      ],
      "metadata": {
        "colab": {
          "base_uri": "https://localhost:8080/"
        },
        "id": "mPX0ENKG5-wQ",
        "outputId": "dbf4bc73-8d28-4f0b-a81f-347e4d615928"
      },
      "execution_count": 1,
      "outputs": [
        {
          "output_type": "stream",
          "name": "stdout",
          "text": [
            "Collecting ucimlrepo\n",
            "  Downloading ucimlrepo-0.0.7-py3-none-any.whl.metadata (5.5 kB)\n",
            "Requirement already satisfied: pandas>=1.0.0 in /usr/local/lib/python3.11/dist-packages (from ucimlrepo) (2.2.2)\n",
            "Requirement already satisfied: certifi>=2020.12.5 in /usr/local/lib/python3.11/dist-packages (from ucimlrepo) (2025.4.26)\n",
            "Requirement already satisfied: numpy>=1.23.2 in /usr/local/lib/python3.11/dist-packages (from pandas>=1.0.0->ucimlrepo) (2.0.2)\n",
            "Requirement already satisfied: python-dateutil>=2.8.2 in /usr/local/lib/python3.11/dist-packages (from pandas>=1.0.0->ucimlrepo) (2.9.0.post0)\n",
            "Requirement already satisfied: pytz>=2020.1 in /usr/local/lib/python3.11/dist-packages (from pandas>=1.0.0->ucimlrepo) (2025.2)\n",
            "Requirement already satisfied: tzdata>=2022.7 in /usr/local/lib/python3.11/dist-packages (from pandas>=1.0.0->ucimlrepo) (2025.2)\n",
            "Requirement already satisfied: six>=1.5 in /usr/local/lib/python3.11/dist-packages (from python-dateutil>=2.8.2->pandas>=1.0.0->ucimlrepo) (1.17.0)\n",
            "Downloading ucimlrepo-0.0.7-py3-none-any.whl (8.0 kB)\n",
            "Installing collected packages: ucimlrepo\n",
            "Successfully installed ucimlrepo-0.0.7\n"
          ]
        }
      ]
    },
    {
      "cell_type": "code",
      "source": [
        "import pandas as pd"
      ],
      "metadata": {
        "id": "t5SizUi96yza"
      },
      "execution_count": 3,
      "outputs": []
    },
    {
      "cell_type": "markdown",
      "source": [
        "**Load Data from UCI ML Repo**"
      ],
      "metadata": {
        "id": "Agq_3Zj26CFS"
      }
    },
    {
      "cell_type": "code",
      "source": [
        "from ucimlrepo import fetch_ucirepo\n",
        "\n",
        "# fetch dataset\n",
        "heart_failure_clinical_records = fetch_ucirepo(id=519)\n",
        "\n",
        "# data (as pandas dataframes)\n",
        "X = heart_failure_clinical_records.data.features\n",
        "y = heart_failure_clinical_records.data.targets\n",
        "\n",
        "# metadata\n",
        "print(heart_failure_clinical_records.metadata)\n",
        "\n",
        "# variable information\n",
        "print(heart_failure_clinical_records.variables)"
      ],
      "metadata": {
        "colab": {
          "base_uri": "https://localhost:8080/"
        },
        "id": "eRDx53lQ6EcJ",
        "outputId": "fb131c48-51e2-4f6f-a16c-7ba4c3ccfc3a"
      },
      "execution_count": 2,
      "outputs": [
        {
          "output_type": "stream",
          "name": "stdout",
          "text": [
            "{'uci_id': 519, 'name': 'Heart Failure Clinical Records', 'repository_url': 'https://archive.ics.uci.edu/dataset/519/heart+failure+clinical+records', 'data_url': 'https://archive.ics.uci.edu/static/public/519/data.csv', 'abstract': 'This dataset contains the medical records of 299 patients who had heart failure, collected during their follow-up period, where each patient profile has 13 clinical features.', 'area': 'Health and Medicine', 'tasks': ['Classification', 'Regression', 'Clustering'], 'characteristics': ['Multivariate'], 'num_instances': 299, 'num_features': 12, 'feature_types': ['Integer', 'Real'], 'demographics': ['Age', 'Sex'], 'target_col': ['death_event'], 'index_col': None, 'has_missing_values': 'no', 'missing_values_symbol': None, 'year_of_dataset_creation': 2020, 'last_updated': 'Mon Feb 26 2024', 'dataset_doi': '10.24432/C5Z89R', 'creators': [], 'intro_paper': {'ID': 286, 'type': 'NATIVE', 'title': 'Machine learning can predict survival of patients with heart failure from serum creatinine and ejection fraction alone', 'authors': 'D. Chicco, Giuseppe Jurman', 'venue': 'BMC Medical Informatics and Decision Making', 'year': 2020, 'journal': None, 'DOI': None, 'URL': 'https://www.semanticscholar.org/paper/e64579d8593140396b518682bb3a47ba246684eb', 'sha': None, 'corpus': None, 'arxiv': None, 'mag': None, 'acl': None, 'pmid': '32013925', 'pmcid': None}, 'additional_info': {'summary': 'A detailed description of the dataset can be found in the Dataset section of the following paper: \\r\\n\\r\\nDavide Chicco, Giuseppe Jurman: \"Machine learning can predict survival of patients with heart failure from serum creatinine and ejection fraction alone\". BMC Medical Informatics and Decision Making 20, 16 (2020). https://doi.org/10.1186/s12911-020-1023-5 \\r\\n', 'purpose': None, 'funded_by': None, 'instances_represent': None, 'recommended_data_splits': None, 'sensitive_data': None, 'preprocessing_description': None, 'variable_info': 'Thirteen (13) clinical features:\\n\\n- age: age of the patient (years)\\n- anaemia: decrease of red blood cells or hemoglobin (boolean)\\n- creatinine phosphokinase  (CPK): level of the CPK enzyme in the blood (mcg/L)\\n- diabetes: if the patient has diabetes (boolean)\\n- ejection fraction: percentage of blood leaving the heart at each contraction  (percentage)\\n- high blood pressure: if the patient has hypertension (boolean)\\n- platelets: platelets in the blood (kiloplatelets/mL)\\n- sex: woman or man (binary)\\n- serum creatinine: level of serum creatinine in the blood (mg/dL)\\n- serum sodium: level of serum sodium in the blood (mEq/L)\\n- smoking: if the patient smokes or not (boolean)\\n- time: follow-up period (days)\\n- [target] death event: if the patient died during the follow-up period (boolean)\\n\\nFor more information, please check Table 1, Table 2, and Table 3 of the following paper: \\n\\nDavide Chicco, Giuseppe Jurman: \"Machine learning can predict survival of patients with heart failure from serum creatinine and ejection fraction alone\". BMC Medical Informatics and Decision Making 20, 16 (2020). https://doi.org/10.1186/s12911-020-1023-5 \\n', 'citation': None}}\n",
            "                        name     role        type demographic  \\\n",
            "0                        age  Feature     Integer         Age   \n",
            "1                    anaemia  Feature      Binary        None   \n",
            "2   creatinine_phosphokinase  Feature     Integer        None   \n",
            "3                   diabetes  Feature      Binary        None   \n",
            "4          ejection_fraction  Feature     Integer        None   \n",
            "5        high_blood_pressure  Feature      Binary        None   \n",
            "6                  platelets  Feature  Continuous        None   \n",
            "7           serum_creatinine  Feature  Continuous        None   \n",
            "8               serum_sodium  Feature     Integer        None   \n",
            "9                        sex  Feature      Binary         Sex   \n",
            "10                   smoking  Feature      Binary        None   \n",
            "11                      time  Feature     Integer        None   \n",
            "12               death_event   Target      Binary        None   \n",
            "\n",
            "                                          description             units  \\\n",
            "0                                  age of the patient             years   \n",
            "1           decrease of red blood cells or hemoglobin              None   \n",
            "2                level of the CPK enzyme in the blood             mcg/L   \n",
            "3                         if the patient has diabetes              None   \n",
            "4   percentage of blood leaving the heart at each ...                 %   \n",
            "5                     if the patient has hypertension              None   \n",
            "6                              platelets in the blood  kiloplatelets/mL   \n",
            "7              level of serum creatinine in the blood             mg/dL   \n",
            "8                  level of serum sodium in the blood             mEq/L   \n",
            "9                                        woman or man              None   \n",
            "10                       if the patient smokes or not              None   \n",
            "11                                   follow-up period              days   \n",
            "12    if the patient died during the follow-up period              None   \n",
            "\n",
            "   missing_values  \n",
            "0              no  \n",
            "1              no  \n",
            "2              no  \n",
            "3              no  \n",
            "4              no  \n",
            "5              no  \n",
            "6              no  \n",
            "7              no  \n",
            "8              no  \n",
            "9              no  \n",
            "10             no  \n",
            "11             no  \n",
            "12             no  \n"
          ]
        }
      ]
    },
    {
      "cell_type": "markdown",
      "source": [
        "**Continuous Features EDA**"
      ],
      "metadata": {
        "id": "Bn_w1zOxTmln"
      }
    },
    {
      "cell_type": "code",
      "source": [
        "continuous_features_df = X[['age', 'creatinine_phosphokinase', 'ejection_fraction', 'platelets', 'serum_creatinine', 'serum_sodium', 'time']]\n",
        "summary_continuous_full_sample_df = pd.DataFrame({\n",
        "    'Median': continuous_features_df.median(),\n",
        "    'Mean': round(continuous_features_df.mean(),2),\n",
        "    'Standard Deviation': round(continuous_features_df.std(),2)\n",
        "})"
      ],
      "metadata": {
        "id": "VNO2KJ8e4oTa"
      },
      "execution_count": 11,
      "outputs": []
    },
    {
      "cell_type": "code",
      "source": [
        "summary_continuous_full_sample_df"
      ],
      "metadata": {
        "colab": {
          "base_uri": "https://localhost:8080/",
          "height": 269
        },
        "id": "iwBOXmNE7P_U",
        "outputId": "b972459a-f96b-4d3a-a1d4-4e9bed54352e"
      },
      "execution_count": 12,
      "outputs": [
        {
          "output_type": "execute_result",
          "data": {
            "text/plain": [
              "                            Median       Mean  Standard Deviation\n",
              "age                           60.0      60.83               11.89\n",
              "creatinine_phosphokinase     250.0     581.84              970.29\n",
              "ejection_fraction             38.0      38.08               11.83\n",
              "platelets                 262000.0  263358.03            97804.24\n",
              "serum_creatinine               1.1       1.39                1.03\n",
              "serum_sodium                 137.0     136.63                4.41\n",
              "time                         115.0     130.26               77.61"
            ],
            "text/html": [
              "\n",
              "  <div id=\"df-3c8554dc-65c7-4cbc-a64e-9e04684ecf9b\" class=\"colab-df-container\">\n",
              "    <div>\n",
              "<style scoped>\n",
              "    .dataframe tbody tr th:only-of-type {\n",
              "        vertical-align: middle;\n",
              "    }\n",
              "\n",
              "    .dataframe tbody tr th {\n",
              "        vertical-align: top;\n",
              "    }\n",
              "\n",
              "    .dataframe thead th {\n",
              "        text-align: right;\n",
              "    }\n",
              "</style>\n",
              "<table border=\"1\" class=\"dataframe\">\n",
              "  <thead>\n",
              "    <tr style=\"text-align: right;\">\n",
              "      <th></th>\n",
              "      <th>Median</th>\n",
              "      <th>Mean</th>\n",
              "      <th>Standard Deviation</th>\n",
              "    </tr>\n",
              "  </thead>\n",
              "  <tbody>\n",
              "    <tr>\n",
              "      <th>age</th>\n",
              "      <td>60.0</td>\n",
              "      <td>60.83</td>\n",
              "      <td>11.89</td>\n",
              "    </tr>\n",
              "    <tr>\n",
              "      <th>creatinine_phosphokinase</th>\n",
              "      <td>250.0</td>\n",
              "      <td>581.84</td>\n",
              "      <td>970.29</td>\n",
              "    </tr>\n",
              "    <tr>\n",
              "      <th>ejection_fraction</th>\n",
              "      <td>38.0</td>\n",
              "      <td>38.08</td>\n",
              "      <td>11.83</td>\n",
              "    </tr>\n",
              "    <tr>\n",
              "      <th>platelets</th>\n",
              "      <td>262000.0</td>\n",
              "      <td>263358.03</td>\n",
              "      <td>97804.24</td>\n",
              "    </tr>\n",
              "    <tr>\n",
              "      <th>serum_creatinine</th>\n",
              "      <td>1.1</td>\n",
              "      <td>1.39</td>\n",
              "      <td>1.03</td>\n",
              "    </tr>\n",
              "    <tr>\n",
              "      <th>serum_sodium</th>\n",
              "      <td>137.0</td>\n",
              "      <td>136.63</td>\n",
              "      <td>4.41</td>\n",
              "    </tr>\n",
              "    <tr>\n",
              "      <th>time</th>\n",
              "      <td>115.0</td>\n",
              "      <td>130.26</td>\n",
              "      <td>77.61</td>\n",
              "    </tr>\n",
              "  </tbody>\n",
              "</table>\n",
              "</div>\n",
              "    <div class=\"colab-df-buttons\">\n",
              "\n",
              "  <div class=\"colab-df-container\">\n",
              "    <button class=\"colab-df-convert\" onclick=\"convertToInteractive('df-3c8554dc-65c7-4cbc-a64e-9e04684ecf9b')\"\n",
              "            title=\"Convert this dataframe to an interactive table.\"\n",
              "            style=\"display:none;\">\n",
              "\n",
              "  <svg xmlns=\"http://www.w3.org/2000/svg\" height=\"24px\" viewBox=\"0 -960 960 960\">\n",
              "    <path d=\"M120-120v-720h720v720H120Zm60-500h600v-160H180v160Zm220 220h160v-160H400v160Zm0 220h160v-160H400v160ZM180-400h160v-160H180v160Zm440 0h160v-160H620v160ZM180-180h160v-160H180v160Zm440 0h160v-160H620v160Z\"/>\n",
              "  </svg>\n",
              "    </button>\n",
              "\n",
              "  <style>\n",
              "    .colab-df-container {\n",
              "      display:flex;\n",
              "      gap: 12px;\n",
              "    }\n",
              "\n",
              "    .colab-df-convert {\n",
              "      background-color: #E8F0FE;\n",
              "      border: none;\n",
              "      border-radius: 50%;\n",
              "      cursor: pointer;\n",
              "      display: none;\n",
              "      fill: #1967D2;\n",
              "      height: 32px;\n",
              "      padding: 0 0 0 0;\n",
              "      width: 32px;\n",
              "    }\n",
              "\n",
              "    .colab-df-convert:hover {\n",
              "      background-color: #E2EBFA;\n",
              "      box-shadow: 0px 1px 2px rgba(60, 64, 67, 0.3), 0px 1px 3px 1px rgba(60, 64, 67, 0.15);\n",
              "      fill: #174EA6;\n",
              "    }\n",
              "\n",
              "    .colab-df-buttons div {\n",
              "      margin-bottom: 4px;\n",
              "    }\n",
              "\n",
              "    [theme=dark] .colab-df-convert {\n",
              "      background-color: #3B4455;\n",
              "      fill: #D2E3FC;\n",
              "    }\n",
              "\n",
              "    [theme=dark] .colab-df-convert:hover {\n",
              "      background-color: #434B5C;\n",
              "      box-shadow: 0px 1px 3px 1px rgba(0, 0, 0, 0.15);\n",
              "      filter: drop-shadow(0px 1px 2px rgba(0, 0, 0, 0.3));\n",
              "      fill: #FFFFFF;\n",
              "    }\n",
              "  </style>\n",
              "\n",
              "    <script>\n",
              "      const buttonEl =\n",
              "        document.querySelector('#df-3c8554dc-65c7-4cbc-a64e-9e04684ecf9b button.colab-df-convert');\n",
              "      buttonEl.style.display =\n",
              "        google.colab.kernel.accessAllowed ? 'block' : 'none';\n",
              "\n",
              "      async function convertToInteractive(key) {\n",
              "        const element = document.querySelector('#df-3c8554dc-65c7-4cbc-a64e-9e04684ecf9b');\n",
              "        const dataTable =\n",
              "          await google.colab.kernel.invokeFunction('convertToInteractive',\n",
              "                                                    [key], {});\n",
              "        if (!dataTable) return;\n",
              "\n",
              "        const docLinkHtml = 'Like what you see? Visit the ' +\n",
              "          '<a target=\"_blank\" href=https://colab.research.google.com/notebooks/data_table.ipynb>data table notebook</a>'\n",
              "          + ' to learn more about interactive tables.';\n",
              "        element.innerHTML = '';\n",
              "        dataTable['output_type'] = 'display_data';\n",
              "        await google.colab.output.renderOutput(dataTable, element);\n",
              "        const docLink = document.createElement('div');\n",
              "        docLink.innerHTML = docLinkHtml;\n",
              "        element.appendChild(docLink);\n",
              "      }\n",
              "    </script>\n",
              "  </div>\n",
              "\n",
              "\n",
              "    <div id=\"df-9be36372-22a0-41c1-ac27-92cfdd060fbb\">\n",
              "      <button class=\"colab-df-quickchart\" onclick=\"quickchart('df-9be36372-22a0-41c1-ac27-92cfdd060fbb')\"\n",
              "                title=\"Suggest charts\"\n",
              "                style=\"display:none;\">\n",
              "\n",
              "<svg xmlns=\"http://www.w3.org/2000/svg\" height=\"24px\"viewBox=\"0 0 24 24\"\n",
              "     width=\"24px\">\n",
              "    <g>\n",
              "        <path d=\"M19 3H5c-1.1 0-2 .9-2 2v14c0 1.1.9 2 2 2h14c1.1 0 2-.9 2-2V5c0-1.1-.9-2-2-2zM9 17H7v-7h2v7zm4 0h-2V7h2v10zm4 0h-2v-4h2v4z\"/>\n",
              "    </g>\n",
              "</svg>\n",
              "      </button>\n",
              "\n",
              "<style>\n",
              "  .colab-df-quickchart {\n",
              "      --bg-color: #E8F0FE;\n",
              "      --fill-color: #1967D2;\n",
              "      --hover-bg-color: #E2EBFA;\n",
              "      --hover-fill-color: #174EA6;\n",
              "      --disabled-fill-color: #AAA;\n",
              "      --disabled-bg-color: #DDD;\n",
              "  }\n",
              "\n",
              "  [theme=dark] .colab-df-quickchart {\n",
              "      --bg-color: #3B4455;\n",
              "      --fill-color: #D2E3FC;\n",
              "      --hover-bg-color: #434B5C;\n",
              "      --hover-fill-color: #FFFFFF;\n",
              "      --disabled-bg-color: #3B4455;\n",
              "      --disabled-fill-color: #666;\n",
              "  }\n",
              "\n",
              "  .colab-df-quickchart {\n",
              "    background-color: var(--bg-color);\n",
              "    border: none;\n",
              "    border-radius: 50%;\n",
              "    cursor: pointer;\n",
              "    display: none;\n",
              "    fill: var(--fill-color);\n",
              "    height: 32px;\n",
              "    padding: 0;\n",
              "    width: 32px;\n",
              "  }\n",
              "\n",
              "  .colab-df-quickchart:hover {\n",
              "    background-color: var(--hover-bg-color);\n",
              "    box-shadow: 0 1px 2px rgba(60, 64, 67, 0.3), 0 1px 3px 1px rgba(60, 64, 67, 0.15);\n",
              "    fill: var(--button-hover-fill-color);\n",
              "  }\n",
              "\n",
              "  .colab-df-quickchart-complete:disabled,\n",
              "  .colab-df-quickchart-complete:disabled:hover {\n",
              "    background-color: var(--disabled-bg-color);\n",
              "    fill: var(--disabled-fill-color);\n",
              "    box-shadow: none;\n",
              "  }\n",
              "\n",
              "  .colab-df-spinner {\n",
              "    border: 2px solid var(--fill-color);\n",
              "    border-color: transparent;\n",
              "    border-bottom-color: var(--fill-color);\n",
              "    animation:\n",
              "      spin 1s steps(1) infinite;\n",
              "  }\n",
              "\n",
              "  @keyframes spin {\n",
              "    0% {\n",
              "      border-color: transparent;\n",
              "      border-bottom-color: var(--fill-color);\n",
              "      border-left-color: var(--fill-color);\n",
              "    }\n",
              "    20% {\n",
              "      border-color: transparent;\n",
              "      border-left-color: var(--fill-color);\n",
              "      border-top-color: var(--fill-color);\n",
              "    }\n",
              "    30% {\n",
              "      border-color: transparent;\n",
              "      border-left-color: var(--fill-color);\n",
              "      border-top-color: var(--fill-color);\n",
              "      border-right-color: var(--fill-color);\n",
              "    }\n",
              "    40% {\n",
              "      border-color: transparent;\n",
              "      border-right-color: var(--fill-color);\n",
              "      border-top-color: var(--fill-color);\n",
              "    }\n",
              "    60% {\n",
              "      border-color: transparent;\n",
              "      border-right-color: var(--fill-color);\n",
              "    }\n",
              "    80% {\n",
              "      border-color: transparent;\n",
              "      border-right-color: var(--fill-color);\n",
              "      border-bottom-color: var(--fill-color);\n",
              "    }\n",
              "    90% {\n",
              "      border-color: transparent;\n",
              "      border-bottom-color: var(--fill-color);\n",
              "    }\n",
              "  }\n",
              "</style>\n",
              "\n",
              "      <script>\n",
              "        async function quickchart(key) {\n",
              "          const quickchartButtonEl =\n",
              "            document.querySelector('#' + key + ' button');\n",
              "          quickchartButtonEl.disabled = true;  // To prevent multiple clicks.\n",
              "          quickchartButtonEl.classList.add('colab-df-spinner');\n",
              "          try {\n",
              "            const charts = await google.colab.kernel.invokeFunction(\n",
              "                'suggestCharts', [key], {});\n",
              "          } catch (error) {\n",
              "            console.error('Error during call to suggestCharts:', error);\n",
              "          }\n",
              "          quickchartButtonEl.classList.remove('colab-df-spinner');\n",
              "          quickchartButtonEl.classList.add('colab-df-quickchart-complete');\n",
              "        }\n",
              "        (() => {\n",
              "          let quickchartButtonEl =\n",
              "            document.querySelector('#df-9be36372-22a0-41c1-ac27-92cfdd060fbb button');\n",
              "          quickchartButtonEl.style.display =\n",
              "            google.colab.kernel.accessAllowed ? 'block' : 'none';\n",
              "        })();\n",
              "      </script>\n",
              "    </div>\n",
              "\n",
              "  <div id=\"id_091387d2-13a4-4bab-8a68-cb2479cf3465\">\n",
              "    <style>\n",
              "      .colab-df-generate {\n",
              "        background-color: #E8F0FE;\n",
              "        border: none;\n",
              "        border-radius: 50%;\n",
              "        cursor: pointer;\n",
              "        display: none;\n",
              "        fill: #1967D2;\n",
              "        height: 32px;\n",
              "        padding: 0 0 0 0;\n",
              "        width: 32px;\n",
              "      }\n",
              "\n",
              "      .colab-df-generate:hover {\n",
              "        background-color: #E2EBFA;\n",
              "        box-shadow: 0px 1px 2px rgba(60, 64, 67, 0.3), 0px 1px 3px 1px rgba(60, 64, 67, 0.15);\n",
              "        fill: #174EA6;\n",
              "      }\n",
              "\n",
              "      [theme=dark] .colab-df-generate {\n",
              "        background-color: #3B4455;\n",
              "        fill: #D2E3FC;\n",
              "      }\n",
              "\n",
              "      [theme=dark] .colab-df-generate:hover {\n",
              "        background-color: #434B5C;\n",
              "        box-shadow: 0px 1px 3px 1px rgba(0, 0, 0, 0.15);\n",
              "        filter: drop-shadow(0px 1px 2px rgba(0, 0, 0, 0.3));\n",
              "        fill: #FFFFFF;\n",
              "      }\n",
              "    </style>\n",
              "    <button class=\"colab-df-generate\" onclick=\"generateWithVariable('summary_continuous_full_sample_df')\"\n",
              "            title=\"Generate code using this dataframe.\"\n",
              "            style=\"display:none;\">\n",
              "\n",
              "  <svg xmlns=\"http://www.w3.org/2000/svg\" height=\"24px\"viewBox=\"0 0 24 24\"\n",
              "       width=\"24px\">\n",
              "    <path d=\"M7,19H8.4L18.45,9,17,7.55,7,17.6ZM5,21V16.75L18.45,3.32a2,2,0,0,1,2.83,0l1.4,1.43a1.91,1.91,0,0,1,.58,1.4,1.91,1.91,0,0,1-.58,1.4L9.25,21ZM18.45,9,17,7.55Zm-12,3A5.31,5.31,0,0,0,4.9,8.1,5.31,5.31,0,0,0,1,6.5,5.31,5.31,0,0,0,4.9,4.9,5.31,5.31,0,0,0,6.5,1,5.31,5.31,0,0,0,8.1,4.9,5.31,5.31,0,0,0,12,6.5,5.46,5.46,0,0,0,6.5,12Z\"/>\n",
              "  </svg>\n",
              "    </button>\n",
              "    <script>\n",
              "      (() => {\n",
              "      const buttonEl =\n",
              "        document.querySelector('#id_091387d2-13a4-4bab-8a68-cb2479cf3465 button.colab-df-generate');\n",
              "      buttonEl.style.display =\n",
              "        google.colab.kernel.accessAllowed ? 'block' : 'none';\n",
              "\n",
              "      buttonEl.onclick = () => {\n",
              "        google.colab.notebook.generateWithVariable('summary_continuous_full_sample_df');\n",
              "      }\n",
              "      })();\n",
              "    </script>\n",
              "  </div>\n",
              "\n",
              "    </div>\n",
              "  </div>\n"
            ],
            "application/vnd.google.colaboratory.intrinsic+json": {
              "type": "dataframe",
              "variable_name": "summary_continuous_full_sample_df",
              "summary": "{\n  \"name\": \"summary_continuous_full_sample_df\",\n  \"rows\": 7,\n  \"fields\": [\n    {\n      \"column\": \"Median\",\n      \"properties\": {\n        \"dtype\": \"number\",\n        \"std\": 98988.85928816868,\n        \"min\": 1.1,\n        \"max\": 262000.0,\n        \"num_unique_values\": 7,\n        \"samples\": [\n          60.0,\n          250.0,\n          137.0\n        ],\n        \"semantic_type\": \"\",\n        \"description\": \"\"\n      }\n    },\n    {\n      \"column\": \"Mean\",\n      \"properties\": {\n        \"dtype\": \"number\",\n        \"std\": 99480.38776217644,\n        \"min\": 1.39,\n        \"max\": 263358.03,\n        \"num_unique_values\": 7,\n        \"samples\": [\n          60.83,\n          581.84,\n          136.63\n        ],\n        \"semantic_type\": \"\",\n        \"description\": \"\"\n      }\n    },\n    {\n      \"column\": \"Standard Deviation\",\n      \"properties\": {\n        \"dtype\": \"number\",\n        \"std\": 36900.38345359436,\n        \"min\": 1.03,\n        \"max\": 97804.24,\n        \"num_unique_values\": 7,\n        \"samples\": [\n          11.89,\n          970.29,\n          4.41\n        ],\n        \"semantic_type\": \"\",\n        \"description\": \"\"\n      }\n    }\n  ]\n}"
            }
          },
          "metadata": {},
          "execution_count": 12
        }
      ]
    },
    {
      "cell_type": "code",
      "source": [
        "continuous_features_df"
      ],
      "metadata": {
        "id": "EAVxIA1871ax"
      },
      "execution_count": null,
      "outputs": []
    },
    {
      "cell_type": "markdown",
      "source": [
        "**Categorical Features EDA**"
      ],
      "metadata": {
        "id": "gCPNpUDhTqM7"
      }
    },
    {
      "cell_type": "code",
      "source": [],
      "metadata": {
        "id": "3l20LH3A7xXK"
      },
      "execution_count": null,
      "outputs": []
    },
    {
      "cell_type": "markdown",
      "source": [
        "**Mann–Whitney U test**"
      ],
      "metadata": {
        "id": "3VvdD6jYsEpI"
      }
    },
    {
      "cell_type": "code",
      "source": [],
      "metadata": {
        "id": "FDS_TZVWr-40"
      },
      "execution_count": null,
      "outputs": []
    },
    {
      "cell_type": "markdown",
      "source": [
        "**Pearson correlation coefficient**"
      ],
      "metadata": {
        "id": "xEtODBfAsPRa"
      }
    },
    {
      "cell_type": "markdown",
      "source": [
        "**Scatterplot comparing Serum Creatine v. Ejection Fraction**"
      ],
      "metadata": {
        "id": "tYByFCXawatU"
      }
    },
    {
      "cell_type": "markdown",
      "source": [
        "**Survival Month**"
      ],
      "metadata": {
        "id": "S_JKMlybwxVx"
      }
    },
    {
      "cell_type": "markdown",
      "source": [
        "**Survival Month v. Survival**"
      ],
      "metadata": {
        "id": "tRjK7Q50w8LY"
      }
    },
    {
      "cell_type": "markdown",
      "source": [
        "**Survival Prediction on all Clinical Features**\n",
        "\n",
        "\n",
        "\n",
        "1. Random Forests\n",
        "2. Decision Tree\n",
        "3. Gradient Boosting\n",
        "4. One Rule\n",
        "5. Artificial Neural Network\n",
        "6. Naive Bayes\n",
        "7. SVM Radial\n",
        "8. SVM Linear\n",
        "9. K-nearest Neighbor\n",
        "\n",
        "Found Random Forest performed the best.\n",
        "\n",
        "\n",
        "\n",
        "\n",
        "\n"
      ],
      "metadata": {
        "id": "Z33BCkKeuqz2"
      }
    },
    {
      "cell_type": "markdown",
      "source": [
        "**Feature Ranking**\n",
        "\n",
        "\n",
        "1. RReliefF\n",
        "2. Max-Min Parents and Children\n",
        "3. Random Forest\n",
        "4. One Rule\n",
        "5. Recursive Partitioning and Regression Trees\n",
        "6. Support Vector Machines with linear kernel\n",
        "7. eXtreme Gradient Boosting\n",
        "\n",
        "11 features (everything but Time)\n",
        "\n",
        "Borda list: lower the score,the more important the feature\n",
        "\n",
        "The authors found the top–two features to be serum\n",
        "creatinine and ejection fraction. They used these 2 features in 3 classifiers:\n",
        "Random Forests (RF),\n",
        "Support Vector Machine with Gaussian Kernel (GSVM)\n",
        "and eXtreme Gradient Boosting (XGB).\n"
      ],
      "metadata": {
        "id": "F_XX7buoqZyu"
      }
    },
    {
      "cell_type": "markdown",
      "source": [
        "**Random Forests (RF)**"
      ],
      "metadata": {
        "id": "Br-8s7kEtYY5"
      }
    },
    {
      "cell_type": "code",
      "source": [],
      "metadata": {
        "id": "FBF3_DbzqcdW"
      },
      "execution_count": null,
      "outputs": []
    },
    {
      "cell_type": "markdown",
      "source": [
        "**Support Vector Machine with Gaussian Kernel (GSVM)**"
      ],
      "metadata": {
        "id": "8R280-2Htbsg"
      }
    },
    {
      "cell_type": "code",
      "source": [],
      "metadata": {
        "id": "YeYqa_hkteN7"
      },
      "execution_count": null,
      "outputs": []
    },
    {
      "cell_type": "markdown",
      "source": [
        "**eXtreme Gradient Boosting (XGB)**"
      ],
      "metadata": {
        "id": "HRvvv4eNtgI7"
      }
    },
    {
      "cell_type": "code",
      "source": [],
      "metadata": {
        "id": "Vd03xHqqtiOV"
      },
      "execution_count": null,
      "outputs": []
    },
    {
      "cell_type": "markdown",
      "source": [
        "**Stratified Logistic Regression All Features**"
      ],
      "metadata": {
        "id": "eOzZroeHyfml"
      }
    },
    {
      "cell_type": "code",
      "source": [],
      "metadata": {
        "id": "JDvYuPPCyiNS"
      },
      "execution_count": null,
      "outputs": []
    },
    {
      "cell_type": "markdown",
      "source": [
        "**Stratified Logistic Regression Top 3 Features**"
      ],
      "metadata": {
        "id": "OG8Eck8Hykcx"
      }
    },
    {
      "cell_type": "code",
      "source": [],
      "metadata": {
        "id": "vNRdZWQSypCQ"
      },
      "execution_count": null,
      "outputs": []
    }
  ]
}